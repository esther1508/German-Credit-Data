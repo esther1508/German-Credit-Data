{
 "cells": [
  {
   "cell_type": "code",
   "execution_count": 1,
   "metadata": {},
   "outputs": [],
   "source": [
    "import pandas as pd\n",
    "import numpy as np\n",
    "import statsmodels.api as sm\n",
    "import matplotlib.pyplot as plt\n",
    "%matplotlib inline\n",
    "import os\n",
    "import seaborn as sns"
   ]
  },
  {
   "cell_type": "code",
   "execution_count": 2,
   "metadata": {},
   "outputs": [
    {
     "data": {
      "text/html": [
       "<div>\n",
       "<style scoped>\n",
       "    .dataframe tbody tr th:only-of-type {\n",
       "        vertical-align: middle;\n",
       "    }\n",
       "\n",
       "    .dataframe tbody tr th {\n",
       "        vertical-align: top;\n",
       "    }\n",
       "\n",
       "    .dataframe thead th {\n",
       "        text-align: right;\n",
       "    }\n",
       "</style>\n",
       "<table border=\"1\" class=\"dataframe\">\n",
       "  <thead>\n",
       "    <tr style=\"text-align: right;\">\n",
       "      <th></th>\n",
       "      <th>Existing  Checking</th>\n",
       "      <th>Duration</th>\n",
       "      <th>Crdeit History</th>\n",
       "      <th>Credit Amount</th>\n",
       "      <th>Savings</th>\n",
       "      <th>Present employment since</th>\n",
       "      <th>Peronal Status &amp; Gender</th>\n",
       "      <th>Installment rate in percentage of disposable income</th>\n",
       "      <th>Property</th>\n",
       "      <th>Age</th>\n",
       "      <th>Other Installment plans</th>\n",
       "      <th>Property.1</th>\n",
       "      <th>Number of Existing Credits at this bank</th>\n",
       "      <th>Housing</th>\n",
       "      <th>Unnamed: 14</th>\n",
       "      <th>Job</th>\n",
       "      <th>Peopleliable</th>\n",
       "      <th>Telephone</th>\n",
       "      <th>Foreign worker</th>\n",
       "      <th>Classification</th>\n",
       "    </tr>\n",
       "  </thead>\n",
       "  <tbody>\n",
       "    <tr>\n",
       "      <th>0</th>\n",
       "      <td>1</td>\n",
       "      <td>6</td>\n",
       "      <td>4</td>\n",
       "      <td>12</td>\n",
       "      <td>5</td>\n",
       "      <td>5</td>\n",
       "      <td>3</td>\n",
       "      <td>4</td>\n",
       "      <td>1</td>\n",
       "      <td>67</td>\n",
       "      <td>3</td>\n",
       "      <td>2</td>\n",
       "      <td>2</td>\n",
       "      <td>1</td>\n",
       "      <td>0</td>\n",
       "      <td>0</td>\n",
       "      <td>1</td>\n",
       "      <td>0</td>\n",
       "      <td>0</td>\n",
       "      <td>1</td>\n",
       "    </tr>\n",
       "    <tr>\n",
       "      <th>1</th>\n",
       "      <td>2</td>\n",
       "      <td>48</td>\n",
       "      <td>2</td>\n",
       "      <td>60</td>\n",
       "      <td>1</td>\n",
       "      <td>3</td>\n",
       "      <td>2</td>\n",
       "      <td>2</td>\n",
       "      <td>1</td>\n",
       "      <td>22</td>\n",
       "      <td>3</td>\n",
       "      <td>1</td>\n",
       "      <td>1</td>\n",
       "      <td>1</td>\n",
       "      <td>0</td>\n",
       "      <td>0</td>\n",
       "      <td>1</td>\n",
       "      <td>0</td>\n",
       "      <td>0</td>\n",
       "      <td>1</td>\n",
       "    </tr>\n",
       "    <tr>\n",
       "      <th>2</th>\n",
       "      <td>4</td>\n",
       "      <td>12</td>\n",
       "      <td>4</td>\n",
       "      <td>21</td>\n",
       "      <td>1</td>\n",
       "      <td>4</td>\n",
       "      <td>3</td>\n",
       "      <td>3</td>\n",
       "      <td>1</td>\n",
       "      <td>49</td>\n",
       "      <td>3</td>\n",
       "      <td>1</td>\n",
       "      <td>1</td>\n",
       "      <td>1</td>\n",
       "      <td>0</td>\n",
       "      <td>0</td>\n",
       "      <td>1</td>\n",
       "      <td>0</td>\n",
       "      <td>0</td>\n",
       "      <td>1</td>\n",
       "    </tr>\n",
       "    <tr>\n",
       "      <th>3</th>\n",
       "      <td>1</td>\n",
       "      <td>42</td>\n",
       "      <td>2</td>\n",
       "      <td>79</td>\n",
       "      <td>1</td>\n",
       "      <td>4</td>\n",
       "      <td>3</td>\n",
       "      <td>4</td>\n",
       "      <td>2</td>\n",
       "      <td>45</td>\n",
       "      <td>3</td>\n",
       "      <td>1</td>\n",
       "      <td>1</td>\n",
       "      <td>1</td>\n",
       "      <td>0</td>\n",
       "      <td>0</td>\n",
       "      <td>0</td>\n",
       "      <td>0</td>\n",
       "      <td>0</td>\n",
       "      <td>0</td>\n",
       "    </tr>\n",
       "    <tr>\n",
       "      <th>4</th>\n",
       "      <td>1</td>\n",
       "      <td>24</td>\n",
       "      <td>3</td>\n",
       "      <td>49</td>\n",
       "      <td>1</td>\n",
       "      <td>3</td>\n",
       "      <td>3</td>\n",
       "      <td>4</td>\n",
       "      <td>4</td>\n",
       "      <td>53</td>\n",
       "      <td>3</td>\n",
       "      <td>2</td>\n",
       "      <td>1</td>\n",
       "      <td>1</td>\n",
       "      <td>1</td>\n",
       "      <td>0</td>\n",
       "      <td>1</td>\n",
       "      <td>0</td>\n",
       "      <td>0</td>\n",
       "      <td>0</td>\n",
       "    </tr>\n",
       "  </tbody>\n",
       "</table>\n",
       "</div>"
      ],
      "text/plain": [
       "   Existing  Checking  Duration  Crdeit History  Credit Amount  Savings  \\\n",
       "0                   1         6               4             12        5   \n",
       "1                   2        48               2             60        1   \n",
       "2                   4        12               4             21        1   \n",
       "3                   1        42               2             79        1   \n",
       "4                   1        24               3             49        1   \n",
       "\n",
       "    Present employment since  Peronal Status & Gender  \\\n",
       "0                          5                        3   \n",
       "1                          3                        2   \n",
       "2                          4                        3   \n",
       "3                          4                        3   \n",
       "4                          3                        3   \n",
       "\n",
       "   Installment rate in percentage of disposable income  Property  Age  \\\n",
       "0                                                  4           1   67   \n",
       "1                                                  2           1   22   \n",
       "2                                                  3           1   49   \n",
       "3                                                  4           2   45   \n",
       "4                                                  4           4   53   \n",
       "\n",
       "   Other Installment plans  Property.1  \\\n",
       "0                        3           2   \n",
       "1                        3           1   \n",
       "2                        3           1   \n",
       "3                        3           1   \n",
       "4                        3           2   \n",
       "\n",
       "   Number of Existing Credits at this bank  Housing  Unnamed: 14  Job  \\\n",
       "0                                        2        1            0    0   \n",
       "1                                        1        1            0    0   \n",
       "2                                        1        1            0    0   \n",
       "3                                        1        1            0    0   \n",
       "4                                        1        1            1    0   \n",
       "\n",
       "   Peopleliable  Telephone  Foreign worker  Classification  \n",
       "0             1          0               0               1  \n",
       "1             1          0               0               1  \n",
       "2             1          0               0               1  \n",
       "3             0          0               0               0  \n",
       "4             1          0               0               0  "
      ]
     },
     "execution_count": 2,
     "metadata": {},
     "output_type": "execute_result"
    }
   ],
   "source": [
    "df=pd.read_excel(\"C:\\\\Users\\\\LILLY GRACE\\\\Downloads\\\\GCC.xlsx\",na_values=[\"?\",\" \",],sheet_name='Sheet4')\n",
    "df.head()"
   ]
  },
  {
   "cell_type": "code",
   "execution_count": 3,
   "metadata": {},
   "outputs": [
    {
     "data": {
      "text/plain": [
       "Index(['Existing  Checking', 'Duration', 'Crdeit History', 'Credit Amount',\n",
       "       'Savings', ' Present employment since', 'Peronal Status & Gender',\n",
       "       'Installment rate in percentage of disposable income', 'Property',\n",
       "       'Age', 'Other Installment plans', 'Property.1',\n",
       "       'Number of Existing Credits at this bank', 'Housing', 'Unnamed: 14',\n",
       "       'Job', 'Peopleliable', 'Telephone', 'Foreign worker', 'Classification'],\n",
       "      dtype='object')"
      ]
     },
     "execution_count": 3,
     "metadata": {},
     "output_type": "execute_result"
    }
   ],
   "source": [
    "df.columns"
   ]
  },
  {
   "cell_type": "code",
   "execution_count": 4,
   "metadata": {},
   "outputs": [],
   "source": [
    "df=df.drop(['Unnamed: 14','Property.1'],axis=1)"
   ]
  },
  {
   "cell_type": "code",
   "execution_count": 5,
   "metadata": {},
   "outputs": [
    {
     "data": {
      "text/plain": [
       "Index(['Existing  Checking', 'Duration', 'Crdeit History', 'Credit Amount',\n",
       "       'Savings', ' Present employment since', 'Peronal Status & Gender',\n",
       "       'Installment rate in percentage of disposable income', 'Property',\n",
       "       'Age', 'Other Installment plans',\n",
       "       'Number of Existing Credits at this bank', 'Housing', 'Job',\n",
       "       'Peopleliable', 'Telephone', 'Foreign worker', 'Classification'],\n",
       "      dtype='object')"
      ]
     },
     "execution_count": 5,
     "metadata": {},
     "output_type": "execute_result"
    }
   ],
   "source": [
    "df.columns"
   ]
  },
  {
   "cell_type": "code",
   "execution_count": 6,
   "metadata": {},
   "outputs": [
    {
     "data": {
      "text/plain": [
       "Existing  Checking                                     int64\n",
       "Duration                                               int64\n",
       "Crdeit History                                         int64\n",
       "Credit Amount                                          int64\n",
       "Savings                                                int64\n",
       " Present employment since                              int64\n",
       "Peronal Status & Gender                                int64\n",
       "Installment rate in percentage of disposable income    int64\n",
       "Property                                               int64\n",
       "Age                                                    int64\n",
       "Other Installment plans                                int64\n",
       "Number of Existing Credits at this bank                int64\n",
       "Housing                                                int64\n",
       "Job                                                    int64\n",
       "Peopleliable                                           int64\n",
       "Telephone                                              int64\n",
       "Foreign worker                                         int64\n",
       "Classification                                         int64\n",
       "dtype: object"
      ]
     },
     "execution_count": 6,
     "metadata": {},
     "output_type": "execute_result"
    }
   ],
   "source": [
    "df.dtypes"
   ]
  },
  {
   "cell_type": "code",
   "execution_count": 7,
   "metadata": {},
   "outputs": [],
   "source": [
    "df1=df[['Existing  Checking','Crdeit History','Savings','Property','Other Installment plans','Peopleliable','Telephone','Foreign worker','Classification']].astype(str)\n"
   ]
  },
  {
   "cell_type": "code",
   "execution_count": 8,
   "metadata": {},
   "outputs": [],
   "source": [
    "df=df.drop(['Existing  Checking','Crdeit History','Savings','Property','Other Installment plans','Peopleliable','Telephone','Foreign worker','Classification'],axis=1)\n"
   ]
  },
  {
   "cell_type": "code",
   "execution_count": 9,
   "metadata": {},
   "outputs": [],
   "source": [
    "# result = pd.concat([df1, df4], axis=1, join='inner')\n",
    "df=pd.concat([df1,df],axis=1,join='inner')"
   ]
  },
  {
   "cell_type": "code",
   "execution_count": 10,
   "metadata": {},
   "outputs": [
    {
     "data": {
      "text/html": [
       "<div>\n",
       "<style scoped>\n",
       "    .dataframe tbody tr th:only-of-type {\n",
       "        vertical-align: middle;\n",
       "    }\n",
       "\n",
       "    .dataframe tbody tr th {\n",
       "        vertical-align: top;\n",
       "    }\n",
       "\n",
       "    .dataframe thead th {\n",
       "        text-align: right;\n",
       "    }\n",
       "</style>\n",
       "<table border=\"1\" class=\"dataframe\">\n",
       "  <thead>\n",
       "    <tr style=\"text-align: right;\">\n",
       "      <th></th>\n",
       "      <th>Existing  Checking</th>\n",
       "      <th>Crdeit History</th>\n",
       "      <th>Savings</th>\n",
       "      <th>Property</th>\n",
       "      <th>Other Installment plans</th>\n",
       "      <th>Peopleliable</th>\n",
       "      <th>Telephone</th>\n",
       "      <th>Foreign worker</th>\n",
       "      <th>Classification</th>\n",
       "      <th>Duration</th>\n",
       "      <th>Credit Amount</th>\n",
       "      <th>Present employment since</th>\n",
       "      <th>Peronal Status &amp; Gender</th>\n",
       "      <th>Installment rate in percentage of disposable income</th>\n",
       "      <th>Age</th>\n",
       "      <th>Number of Existing Credits at this bank</th>\n",
       "      <th>Housing</th>\n",
       "      <th>Job</th>\n",
       "    </tr>\n",
       "  </thead>\n",
       "  <tbody>\n",
       "    <tr>\n",
       "      <th>0</th>\n",
       "      <td>1</td>\n",
       "      <td>4</td>\n",
       "      <td>5</td>\n",
       "      <td>1</td>\n",
       "      <td>3</td>\n",
       "      <td>1</td>\n",
       "      <td>0</td>\n",
       "      <td>0</td>\n",
       "      <td>1</td>\n",
       "      <td>6</td>\n",
       "      <td>12</td>\n",
       "      <td>5</td>\n",
       "      <td>3</td>\n",
       "      <td>4</td>\n",
       "      <td>67</td>\n",
       "      <td>2</td>\n",
       "      <td>1</td>\n",
       "      <td>0</td>\n",
       "    </tr>\n",
       "    <tr>\n",
       "      <th>1</th>\n",
       "      <td>2</td>\n",
       "      <td>2</td>\n",
       "      <td>1</td>\n",
       "      <td>1</td>\n",
       "      <td>3</td>\n",
       "      <td>1</td>\n",
       "      <td>0</td>\n",
       "      <td>0</td>\n",
       "      <td>1</td>\n",
       "      <td>48</td>\n",
       "      <td>60</td>\n",
       "      <td>3</td>\n",
       "      <td>2</td>\n",
       "      <td>2</td>\n",
       "      <td>22</td>\n",
       "      <td>1</td>\n",
       "      <td>1</td>\n",
       "      <td>0</td>\n",
       "    </tr>\n",
       "    <tr>\n",
       "      <th>2</th>\n",
       "      <td>4</td>\n",
       "      <td>4</td>\n",
       "      <td>1</td>\n",
       "      <td>1</td>\n",
       "      <td>3</td>\n",
       "      <td>1</td>\n",
       "      <td>0</td>\n",
       "      <td>0</td>\n",
       "      <td>1</td>\n",
       "      <td>12</td>\n",
       "      <td>21</td>\n",
       "      <td>4</td>\n",
       "      <td>3</td>\n",
       "      <td>3</td>\n",
       "      <td>49</td>\n",
       "      <td>1</td>\n",
       "      <td>1</td>\n",
       "      <td>0</td>\n",
       "    </tr>\n",
       "    <tr>\n",
       "      <th>3</th>\n",
       "      <td>1</td>\n",
       "      <td>2</td>\n",
       "      <td>1</td>\n",
       "      <td>2</td>\n",
       "      <td>3</td>\n",
       "      <td>0</td>\n",
       "      <td>0</td>\n",
       "      <td>0</td>\n",
       "      <td>0</td>\n",
       "      <td>42</td>\n",
       "      <td>79</td>\n",
       "      <td>4</td>\n",
       "      <td>3</td>\n",
       "      <td>4</td>\n",
       "      <td>45</td>\n",
       "      <td>1</td>\n",
       "      <td>1</td>\n",
       "      <td>0</td>\n",
       "    </tr>\n",
       "    <tr>\n",
       "      <th>4</th>\n",
       "      <td>1</td>\n",
       "      <td>3</td>\n",
       "      <td>1</td>\n",
       "      <td>4</td>\n",
       "      <td>3</td>\n",
       "      <td>1</td>\n",
       "      <td>0</td>\n",
       "      <td>0</td>\n",
       "      <td>0</td>\n",
       "      <td>24</td>\n",
       "      <td>49</td>\n",
       "      <td>3</td>\n",
       "      <td>3</td>\n",
       "      <td>4</td>\n",
       "      <td>53</td>\n",
       "      <td>1</td>\n",
       "      <td>1</td>\n",
       "      <td>0</td>\n",
       "    </tr>\n",
       "  </tbody>\n",
       "</table>\n",
       "</div>"
      ],
      "text/plain": [
       "  Existing  Checking Crdeit History Savings Property Other Installment plans  \\\n",
       "0                  1              4       5        1                       3   \n",
       "1                  2              2       1        1                       3   \n",
       "2                  4              4       1        1                       3   \n",
       "3                  1              2       1        2                       3   \n",
       "4                  1              3       1        4                       3   \n",
       "\n",
       "  Peopleliable Telephone Foreign worker Classification  Duration  \\\n",
       "0            1         0              0              1         6   \n",
       "1            1         0              0              1        48   \n",
       "2            1         0              0              1        12   \n",
       "3            0         0              0              0        42   \n",
       "4            1         0              0              0        24   \n",
       "\n",
       "   Credit Amount   Present employment since  Peronal Status & Gender  \\\n",
       "0             12                          5                        3   \n",
       "1             60                          3                        2   \n",
       "2             21                          4                        3   \n",
       "3             79                          4                        3   \n",
       "4             49                          3                        3   \n",
       "\n",
       "   Installment rate in percentage of disposable income  Age  \\\n",
       "0                                                  4     67   \n",
       "1                                                  2     22   \n",
       "2                                                  3     49   \n",
       "3                                                  4     45   \n",
       "4                                                  4     53   \n",
       "\n",
       "   Number of Existing Credits at this bank  Housing  Job  \n",
       "0                                        2        1    0  \n",
       "1                                        1        1    0  \n",
       "2                                        1        1    0  \n",
       "3                                        1        1    0  \n",
       "4                                        1        1    0  "
      ]
     },
     "execution_count": 10,
     "metadata": {},
     "output_type": "execute_result"
    }
   ],
   "source": [
    "df.head()"
   ]
  },
  {
   "cell_type": "code",
   "execution_count": 11,
   "metadata": {},
   "outputs": [
    {
     "data": {
      "text/plain": [
       "Existing  Checking                                     object\n",
       "Crdeit History                                         object\n",
       "Savings                                                object\n",
       "Property                                               object\n",
       "Other Installment plans                                object\n",
       "Peopleliable                                           object\n",
       "Telephone                                              object\n",
       "Foreign worker                                         object\n",
       "Classification                                         object\n",
       "Duration                                                int64\n",
       "Credit Amount                                           int64\n",
       " Present employment since                               int64\n",
       "Peronal Status & Gender                                 int64\n",
       "Installment rate in percentage of disposable income     int64\n",
       "Age                                                     int64\n",
       "Number of Existing Credits at this bank                 int64\n",
       "Housing                                                 int64\n",
       "Job                                                     int64\n",
       "dtype: object"
      ]
     },
     "execution_count": 11,
     "metadata": {},
     "output_type": "execute_result"
    }
   ],
   "source": [
    "df.dtypes"
   ]
  },
  {
   "cell_type": "code",
   "execution_count": 12,
   "metadata": {},
   "outputs": [
    {
     "data": {
      "text/plain": [
       "Existing  Checking                                     0\n",
       "Crdeit History                                         0\n",
       "Savings                                                0\n",
       "Property                                               0\n",
       "Other Installment plans                                0\n",
       "Peopleliable                                           0\n",
       "Telephone                                              0\n",
       "Foreign worker                                         0\n",
       "Classification                                         0\n",
       "Duration                                               0\n",
       "Credit Amount                                          0\n",
       " Present employment since                              0\n",
       "Peronal Status & Gender                                0\n",
       "Installment rate in percentage of disposable income    0\n",
       "Age                                                    0\n",
       "Number of Existing Credits at this bank                0\n",
       "Housing                                                0\n",
       "Job                                                    0\n",
       "dtype: int64"
      ]
     },
     "execution_count": 12,
     "metadata": {},
     "output_type": "execute_result"
    }
   ],
   "source": [
    "df.isnull().sum()"
   ]
  },
  {
   "cell_type": "code",
   "execution_count": 13,
   "metadata": {},
   "outputs": [
    {
     "data": {
      "text/plain": [
       "<matplotlib.axes._subplots.AxesSubplot at 0x2297950a388>"
      ]
     },
     "execution_count": 13,
     "metadata": {},
     "output_type": "execute_result"
    },
    {
     "data": {
      "image/png": "[encoded data removed]",
      "text/plain": [
       "<Figure size 432x288 with 1 Axes>"
      ]
     },
     "metadata": {
      "needs_background": "light"
     },
     "output_type": "display_data"
    }
   ],
   "source": [
    "sns.countplot(x=\"Existing  Checking\", data=df)"
   ]
  },
  {
   "cell_type": "code",
   "execution_count": 14,
   "metadata": {},
   "outputs": [
    {
     "data": {
      "text/plain": [
       "<matplotlib.axes._subplots.AxesSubplot at 0x22979cdc508>"
      ]
     },
     "execution_count": 14,
     "metadata": {},
     "output_type": "execute_result"
    },
    {
     "data": {
      "image/png": "[encoded data removed]",
      "text/plain": [
       "<Figure size 432x288 with 1 Axes>"
      ]
     },
     "metadata": {
      "needs_background": "light"
     },
     "output_type": "display_data"
    }
   ],
   "source": [
    "sns.countplot(x=\"Crdeit History\", data=df)"
   ]
  },
  {
   "cell_type": "code",
   "execution_count": 15,
   "metadata": {},
   "outputs": [
    {
     "data": {
      "text/plain": [
       "<matplotlib.axes._subplots.AxesSubplot at 0x2297c033408>"
      ]
     },
     "execution_count": 15,
     "metadata": {},
     "output_type": "execute_result"
    },
    {
     "data": {
      "image/png": "[encoded data removed]",
      "text/plain": [
       "<Figure size 432x288 with 1 Axes>"
      ]
     },
     "metadata": {
      "needs_background": "light"
     },
     "output_type": "display_data"
    }
   ],
   "source": [
    "sns.countplot(x=\"Classification\", data=df)"
   ]
  },
  {
   "cell_type": "code",
   "execution_count": 16,
   "metadata": {},
   "outputs": [
    {
     "data": {
      "text/plain": [
       "(array([147., 294., 171., 121.,  69.,  33.,  42.,  34.,  26.,  13.,  13.,\n",
       "          9.,   7.,   7.,   2.,   5.,   2.,   4.,   0.,   1.]),\n",
       " array([  2. ,  11.1,  20.2,  29.3,  38.4,  47.5,  56.6,  65.7,  74.8,\n",
       "         83.9,  93. , 102.1, 111.2, 120.3, 129.4, 138.5, 147.6, 156.7,\n",
       "        165.8, 174.9, 184. ]),\n",
       " <a list of 20 Patch objects>)"
      ]
     },
     "execution_count": 16,
     "metadata": {},
     "output_type": "execute_result"
    },
    {
     "data": {
      "image/png": "[encoded data removed]",
      "text/plain": [
       "<Figure size 432x288 with 1 Axes>"
      ]
     },
     "metadata": {
      "needs_background": "light"
     },
     "output_type": "display_data"
    }
   ],
   "source": [
    "plt.hist(df['Credit Amount'],bins=20)"
   ]
  },
  {
   "cell_type": "code",
   "execution_count": 17,
   "metadata": {
    "scrolled": true
   },
   "outputs": [
    {
     "data": {
      "text/plain": [
       "<matplotlib.axes._subplots.AxesSubplot at 0x2297c198c08>"
      ]
     },
     "execution_count": 17,
     "metadata": {},
     "output_type": "execute_result"
    },
    {
     "data": {
      "image/png": "[encoded data removed]",
      "text/plain": [
       "<Figure size 432x288 with 1 Axes>"
      ]
     },
     "metadata": {
      "needs_background": "light"
     },
     "output_type": "display_data"
    }
   ],
   "source": [
    "pd.crosstab(df['Foreign worker'],df['Classification']).plot.bar()"
   ]
  },
  {
   "cell_type": "code",
   "execution_count": 50,
   "metadata": {},
   "outputs": [
    {
     "data": {
      "text/plain": [
       "<matplotlib.axes._subplots.AxesSubplot at 0x229766ce148>"
      ]
     },
     "execution_count": 50,
     "metadata": {},
     "output_type": "execute_result"
    },
    {
     "data": {
      "image/png": "[encoded data removed]",
      "text/plain": [
       "<Figure size 720x720 with 1 Axes>"
      ]
     },
     "metadata": {
      "needs_background": "light"
     },
     "output_type": "display_data"
    }
   ],
   "source": [
    "pd.crosstab(df['Property'],df['Classification']).plot.bar()"
   ]
  },
  {
   "cell_type": "code",
   "execution_count": 18,
   "metadata": {},
   "outputs": [
    {
     "data": {
      "text/plain": [
       "<matplotlib.axes._subplots.AxesSubplot at 0x2297c22b2c8>"
      ]
     },
     "execution_count": 18,
     "metadata": {},
     "output_type": "execute_result"
    },
    {
     "data": {
      "image/png": "[encoded data removed]",
      "text/plain": [
       "<Figure size 720x720 with 1 Axes>"
      ]
     },
     "metadata": {},
     "output_type": "display_data"
    }
   ],
   "source": [
    "plt.rcParams['figure.figsize'] = (10,10)\n",
    "df.groupby('Other Installment plans').size().plot(kind='pie')"
   ]
  },
  {
   "cell_type": "code",
   "execution_count": 19,
   "metadata": {},
   "outputs": [
    {
     "data": {
      "text/plain": [
       "Index(['Existing  Checking', 'Crdeit History', 'Savings', 'Property',\n",
       "       'Other Installment plans', 'Peopleliable', 'Telephone',\n",
       "       'Foreign worker', 'Classification', 'Duration', 'Credit Amount',\n",
       "       ' Present employment since', 'Peronal Status & Gender',\n",
       "       'Installment rate in percentage of disposable income', 'Age',\n",
       "       'Number of Existing Credits at this bank', 'Housing', 'Job'],\n",
       "      dtype='object')"
      ]
     },
     "execution_count": 19,
     "metadata": {},
     "output_type": "execute_result"
    }
   ],
   "source": [
    "df.columns"
   ]
  },
  {
   "cell_type": "code",
   "execution_count": 20,
   "metadata": {},
   "outputs": [],
   "source": [
    "# df=df.rename(columns={\"Foreign worker\":\"Foreign_worker\",\"Number of Existing Credits at this bank\":\"Existing_credits\",\"Crdeit History\":\"Credit_History\",\"Credit Amount\":\"Credit_Amount\",\"Other Installment plans\":\"Other_Installment_plans\",\n",
    "#                      \"Peronal Status & Gender\":\"PSG\",\"Other Installment plans\":\"Other_Installment_plans\",\" Present employment since\":\"Present_employment_since\"})"
   ]
  },
  {
   "cell_type": "code",
   "execution_count": 21,
   "metadata": {},
   "outputs": [],
   "source": [
    "X=df.drop('Classification',axis=1)\n",
    "y=df['Classification']\n",
    "X=pd.get_dummies(X)"
   ]
  },
  {
   "cell_type": "code",
   "execution_count": 22,
   "metadata": {},
   "outputs": [],
   "source": [
    "import sklearn.model_selection as model_selection\n",
    "X_train,X_test,y_train,y_test=model_selection.train_test_split(X,y,test_size=0.2,random_state=200)"
   ]
  },
  {
   "cell_type": "markdown",
   "metadata": {},
   "source": [
    "# Decision Tree"
   ]
  },
  {
   "cell_type": "code",
   "execution_count": 23,
   "metadata": {},
   "outputs": [
    {
     "data": {
      "text/plain": [
       "DecisionTreeClassifier(ccp_alpha=0.0, class_weight=None, criterion='gini',\n",
       "                       max_depth=3, max_features=None, max_leaf_nodes=None,\n",
       "                       min_impurity_decrease=0.0, min_impurity_split=None,\n",
       "                       min_samples_leaf=1, min_samples_split=2,\n",
       "                       min_weight_fraction_leaf=0.0, presort='deprecated',\n",
       "                       random_state=200, splitter='best')"
      ]
     },
     "execution_count": 23,
     "metadata": {},
     "output_type": "execute_result"
    }
   ],
   "source": [
    "import sklearn.tree as tree\n",
    "clf=tree.DecisionTreeClassifier(max_depth=3,random_state=200)\n",
    "clf.fit(X_train,y_train)"
   ]
  },
  {
   "cell_type": "code",
   "execution_count": 24,
   "metadata": {},
   "outputs": [
    {
     "data": {
      "text/plain": [
       "0.965"
      ]
     },
     "execution_count": 24,
     "metadata": {},
     "output_type": "execute_result"
    }
   ],
   "source": [
    "clf.score(X_test,y_test)"
   ]
  },
  {
   "cell_type": "code",
   "execution_count": 25,
   "metadata": {},
   "outputs": [
    {
     "data": {
      "text/plain": [
       "array([[0.00371058, 0.99628942],\n",
       "       [0.00371058, 0.99628942],\n",
       "       [1.        , 0.        ],\n",
       "       [1.        , 0.        ],\n",
       "       [0.00371058, 0.99628942],\n",
       "       [0.00371058, 0.99628942],\n",
       "       [0.00371058, 0.99628942],\n",
       "       [0.89041096, 0.10958904],\n",
       "       [1.        , 0.        ],\n",
       "       [0.00371058, 0.99628942],\n",
       "       [1.        , 0.        ],\n",
       "       [0.00371058, 0.99628942],\n",
       "       [0.00371058, 0.99628942],\n",
       "       [0.00371058, 0.99628942],\n",
       "       [0.89041096, 0.10958904],\n",
       "       [0.00371058, 0.99628942],\n",
       "       [0.00371058, 0.99628942],\n",
       "       [0.00371058, 0.99628942],\n",
       "       [0.53846154, 0.46153846],\n",
       "       [0.00371058, 0.99628942],\n",
       "       [0.00371058, 0.99628942],\n",
       "       [0.00371058, 0.99628942],\n",
       "       [0.00371058, 0.99628942],\n",
       "       [0.00371058, 0.99628942],\n",
       "       [0.00371058, 0.99628942],\n",
       "       [0.00371058, 0.99628942],\n",
       "       [1.        , 0.        ],\n",
       "       [0.00371058, 0.99628942],\n",
       "       [0.53846154, 0.46153846],\n",
       "       [0.89041096, 0.10958904],\n",
       "       [1.        , 0.        ],\n",
       "       [0.00371058, 0.99628942],\n",
       "       [0.00371058, 0.99628942],\n",
       "       [1.        , 0.        ],\n",
       "       [0.00371058, 0.99628942],\n",
       "       [0.00371058, 0.99628942],\n",
       "       [0.00371058, 0.99628942],\n",
       "       [0.00371058, 0.99628942],\n",
       "       [0.00371058, 0.99628942],\n",
       "       [0.00371058, 0.99628942],\n",
       "       [0.00371058, 0.99628942],\n",
       "       [0.00371058, 0.99628942],\n",
       "       [0.00371058, 0.99628942],\n",
       "       [0.00371058, 0.99628942],\n",
       "       [0.00371058, 0.99628942],\n",
       "       [0.53846154, 0.46153846],\n",
       "       [0.00371058, 0.99628942],\n",
       "       [1.        , 0.        ],\n",
       "       [0.00371058, 0.99628942],\n",
       "       [1.        , 0.        ],\n",
       "       [1.        , 0.        ],\n",
       "       [0.89041096, 0.10958904],\n",
       "       [0.89041096, 0.10958904],\n",
       "       [1.        , 0.        ],\n",
       "       [0.00371058, 0.99628942],\n",
       "       [0.89041096, 0.10958904],\n",
       "       [1.        , 0.        ],\n",
       "       [0.00371058, 0.99628942],\n",
       "       [0.00371058, 0.99628942],\n",
       "       [1.        , 0.        ],\n",
       "       [0.00371058, 0.99628942],\n",
       "       [0.00371058, 0.99628942],\n",
       "       [0.00371058, 0.99628942],\n",
       "       [0.53846154, 0.46153846],\n",
       "       [0.00371058, 0.99628942],\n",
       "       [0.00371058, 0.99628942],\n",
       "       [0.89041096, 0.10958904],\n",
       "       [0.00371058, 0.99628942],\n",
       "       [0.00371058, 0.99628942],\n",
       "       [0.00371058, 0.99628942],\n",
       "       [0.00371058, 0.99628942],\n",
       "       [0.00371058, 0.99628942],\n",
       "       [0.00371058, 0.99628942],\n",
       "       [1.        , 0.        ],\n",
       "       [0.00371058, 0.99628942],\n",
       "       [0.00371058, 0.99628942],\n",
       "       [0.00371058, 0.99628942],\n",
       "       [0.00371058, 0.99628942],\n",
       "       [0.00371058, 0.99628942],\n",
       "       [0.89041096, 0.10958904],\n",
       "       [0.00371058, 0.99628942],\n",
       "       [1.        , 0.        ],\n",
       "       [0.00371058, 0.99628942],\n",
       "       [0.00371058, 0.99628942],\n",
       "       [0.00371058, 0.99628942],\n",
       "       [0.00371058, 0.99628942],\n",
       "       [0.00371058, 0.99628942],\n",
       "       [1.        , 0.        ],\n",
       "       [0.00371058, 0.99628942],\n",
       "       [0.00371058, 0.99628942],\n",
       "       [0.00371058, 0.99628942],\n",
       "       [0.00371058, 0.99628942],\n",
       "       [0.00371058, 0.99628942],\n",
       "       [0.00371058, 0.99628942],\n",
       "       [0.89041096, 0.10958904],\n",
       "       [0.00371058, 0.99628942],\n",
       "       [0.00371058, 0.99628942],\n",
       "       [1.        , 0.        ],\n",
       "       [0.00371058, 0.99628942],\n",
       "       [0.00371058, 0.99628942],\n",
       "       [0.00371058, 0.99628942],\n",
       "       [0.00371058, 0.99628942],\n",
       "       [0.00371058, 0.99628942],\n",
       "       [1.        , 0.        ],\n",
       "       [0.00371058, 0.99628942],\n",
       "       [1.        , 0.        ],\n",
       "       [0.00371058, 0.99628942],\n",
       "       [0.00371058, 0.99628942],\n",
       "       [1.        , 0.        ],\n",
       "       [0.25      , 0.75      ],\n",
       "       [0.00371058, 0.99628942],\n",
       "       [0.00371058, 0.99628942],\n",
       "       [0.89041096, 0.10958904],\n",
       "       [1.        , 0.        ],\n",
       "       [1.        , 0.        ],\n",
       "       [0.89041096, 0.10958904],\n",
       "       [1.        , 0.        ],\n",
       "       [0.00371058, 0.99628942],\n",
       "       [0.00371058, 0.99628942],\n",
       "       [0.53846154, 0.46153846],\n",
       "       [0.00371058, 0.99628942],\n",
       "       [0.00371058, 0.99628942],\n",
       "       [0.00371058, 0.99628942],\n",
       "       [0.00371058, 0.99628942],\n",
       "       [0.00371058, 0.99628942],\n",
       "       [0.00371058, 0.99628942],\n",
       "       [1.        , 0.        ],\n",
       "       [0.00371058, 0.99628942],\n",
       "       [0.00371058, 0.99628942],\n",
       "       [0.89041096, 0.10958904],\n",
       "       [0.00371058, 0.99628942],\n",
       "       [0.89041096, 0.10958904],\n",
       "       [0.00371058, 0.99628942],\n",
       "       [0.00371058, 0.99628942],\n",
       "       [0.00371058, 0.99628942],\n",
       "       [0.00371058, 0.99628942],\n",
       "       [0.00371058, 0.99628942],\n",
       "       [0.00371058, 0.99628942],\n",
       "       [0.00371058, 0.99628942],\n",
       "       [0.00371058, 0.99628942],\n",
       "       [0.00371058, 0.99628942],\n",
       "       [0.00371058, 0.99628942],\n",
       "       [0.00371058, 0.99628942],\n",
       "       [0.00371058, 0.99628942],\n",
       "       [1.        , 0.        ],\n",
       "       [0.00371058, 0.99628942],\n",
       "       [0.00371058, 0.99628942],\n",
       "       [0.00371058, 0.99628942],\n",
       "       [0.89041096, 0.10958904],\n",
       "       [0.00371058, 0.99628942],\n",
       "       [0.00371058, 0.99628942],\n",
       "       [1.        , 0.        ],\n",
       "       [0.00371058, 0.99628942],\n",
       "       [0.00371058, 0.99628942],\n",
       "       [0.53846154, 0.46153846],\n",
       "       [0.00371058, 0.99628942],\n",
       "       [0.00371058, 0.99628942],\n",
       "       [0.89041096, 0.10958904],\n",
       "       [0.00371058, 0.99628942],\n",
       "       [0.00371058, 0.99628942],\n",
       "       [1.        , 0.        ],\n",
       "       [1.        , 0.        ],\n",
       "       [0.00371058, 0.99628942],\n",
       "       [1.        , 0.        ],\n",
       "       [0.00371058, 0.99628942],\n",
       "       [0.00371058, 0.99628942],\n",
       "       [0.00371058, 0.99628942],\n",
       "       [0.00371058, 0.99628942],\n",
       "       [0.00371058, 0.99628942],\n",
       "       [0.00371058, 0.99628942],\n",
       "       [1.        , 0.        ],\n",
       "       [0.89041096, 0.10958904],\n",
       "       [0.00371058, 0.99628942],\n",
       "       [0.00371058, 0.99628942],\n",
       "       [0.00371058, 0.99628942],\n",
       "       [0.00371058, 0.99628942],\n",
       "       [0.00371058, 0.99628942],\n",
       "       [0.00371058, 0.99628942],\n",
       "       [0.00371058, 0.99628942],\n",
       "       [0.00371058, 0.99628942],\n",
       "       [0.00371058, 0.99628942],\n",
       "       [0.00371058, 0.99628942],\n",
       "       [0.00371058, 0.99628942],\n",
       "       [0.00371058, 0.99628942],\n",
       "       [1.        , 0.        ],\n",
       "       [0.00371058, 0.99628942],\n",
       "       [0.89041096, 0.10958904],\n",
       "       [1.        , 0.        ],\n",
       "       [0.00371058, 0.99628942],\n",
       "       [0.89041096, 0.10958904],\n",
       "       [1.        , 0.        ],\n",
       "       [0.00371058, 0.99628942],\n",
       "       [0.00371058, 0.99628942],\n",
       "       [0.00371058, 0.99628942],\n",
       "       [0.00371058, 0.99628942],\n",
       "       [0.00371058, 0.99628942],\n",
       "       [0.00371058, 0.99628942],\n",
       "       [0.00371058, 0.99628942],\n",
       "       [0.00371058, 0.99628942],\n",
       "       [1.        , 0.        ]])"
      ]
     },
     "execution_count": 25,
     "metadata": {},
     "output_type": "execute_result"
    }
   ],
   "source": [
    "prob=clf.predict_proba(X_test)\n",
    "prob"
   ]
  },
  {
   "cell_type": "code",
   "execution_count": 26,
   "metadata": {},
   "outputs": [
    {
     "data": {
      "text/plain": [
       "0.9885765627005519"
      ]
     },
     "execution_count": 26,
     "metadata": {},
     "output_type": "execute_result"
    }
   ],
   "source": [
    "#Area Under the curve\n",
    "import sklearn.metrics as metrics\n",
    "metrics.roc_auc_score(y_test,prob[:,1])"
   ]
  },
  {
   "cell_type": "code",
   "execution_count": 27,
   "metadata": {},
   "outputs": [],
   "source": [
    "import pydotplus\n",
    "os.environ[\"PATH\"] += os.pathsep + 'C:/Program Files (x86)/Graphviz2.38/bin/'\n",
    "dot_data = tree.export_graphviz(clf, out_file=None, \n",
    "                         feature_names=X.columns,  \n",
    "                         class_names=[\"0\",\"1\"],  \n",
    "                         filled=True, rounded=True,  \n",
    "                       proportion=True)\n",
    "graph = pydotplus.graph_from_dot_data(dot_data) "
   ]
  },
  {
   "cell_type": "code",
   "execution_count": 28,
   "metadata": {},
   "outputs": [
    {
     "data": {
      "image/png": "[encoded data removed]",
      "text/plain": [
       "<IPython.core.display.Image object>"
      ]
     },
     "execution_count": 28,
     "metadata": {},
     "output_type": "execute_result"
    }
   ],
   "source": [
    "from IPython.display import Image\n",
    "Image(graph.create_png())"
   ]
  },
  {
   "cell_type": "markdown",
   "metadata": {},
   "source": [
    "\n",
    "# Bagging"
   ]
  },
  {
   "cell_type": "code",
   "execution_count": 29,
   "metadata": {},
   "outputs": [],
   "source": [
    "from sklearn.ensemble import BaggingClassifier\n",
    "from sklearn.tree import DecisionTreeClassifier"
   ]
  },
  {
   "cell_type": "code",
   "execution_count": 30,
   "metadata": {},
   "outputs": [],
   "source": [
    "clf1=BaggingClassifier(oob_score=True,n_jobs=-1,n_estimators=20,random_state=200,\n",
    "                      base_estimator=DecisionTreeClassifier())"
   ]
  },
  {
   "cell_type": "code",
   "execution_count": 31,
   "metadata": {},
   "outputs": [
    {
     "data": {
      "text/plain": [
       "BaggingClassifier(base_estimator=DecisionTreeClassifier(ccp_alpha=0.0,\n",
       "                                                        class_weight=None,\n",
       "                                                        criterion='gini',\n",
       "                                                        max_depth=None,\n",
       "                                                        max_features=None,\n",
       "                                                        max_leaf_nodes=None,\n",
       "                                                        min_impurity_decrease=0.0,\n",
       "                                                        min_impurity_split=None,\n",
       "                                                        min_samples_leaf=1,\n",
       "                                                        min_samples_split=2,\n",
       "                                                        min_weight_fraction_leaf=0.0,\n",
       "                                                        presort='deprecated',\n",
       "                                                        random_state=None,\n",
       "                                                        splitter='best'),\n",
       "                  bootstrap=True, bootstrap_features=False, max_features=1.0,\n",
       "                  max_samples=1.0, n_estimators=20, n_jobs=-1, oob_score=True,\n",
       "                  random_state=200, verbose=0, warm_start=False)"
      ]
     },
     "execution_count": 31,
     "metadata": {},
     "output_type": "execute_result"
    }
   ],
   "source": [
    "clf1.fit(X_train,y_train)"
   ]
  },
  {
   "cell_type": "code",
   "execution_count": 32,
   "metadata": {},
   "outputs": [
    {
     "data": {
      "text/plain": [
       "0.985"
      ]
     },
     "execution_count": 32,
     "metadata": {},
     "output_type": "execute_result"
    }
   ],
   "source": [
    "clf1.score(X_test,y_test)"
   ]
  },
  {
   "cell_type": "code",
   "execution_count": 33,
   "metadata": {},
   "outputs": [
    {
     "data": {
      "text/plain": [
       "0.955"
      ]
     },
     "execution_count": 33,
     "metadata": {},
     "output_type": "execute_result"
    }
   ],
   "source": [
    "clf1.oob_score_"
   ]
  },
  {
   "cell_type": "code",
   "execution_count": 34,
   "metadata": {},
   "outputs": [
    {
     "name": "stdout",
     "output_type": "stream",
     "text": [
      "For n_estimators = 50\n",
      "OOB score is 0.95625\n",
      "************************\n",
      "For n_estimators = 70\n",
      "OOB score is 0.95875\n",
      "************************\n",
      "For n_estimators = 90\n",
      "OOB score is 0.95625\n",
      "************************\n",
      "For n_estimators = 110\n",
      "OOB score is 0.9575\n",
      "************************\n",
      "For n_estimators = 130\n",
      "OOB score is 0.95625\n",
      "************************\n",
      "For n_estimators = 150\n",
      "OOB score is 0.955\n",
      "************************\n",
      "For n_estimators = 170\n",
      "OOB score is 0.955\n",
      "************************\n",
      "For n_estimators = 190\n",
      "OOB score is 0.9575\n",
      "************************\n"
     ]
    }
   ],
   "source": [
    "for w in range(50,200,20):\n",
    "    clf1=BaggingClassifier(oob_score=True,n_jobs=-1,n_estimators=w,random_state=200,\n",
    "                          base_estimator=DecisionTreeClassifier())\n",
    "    clf1.fit(X_train,y_train)\n",
    "    oob=clf1.oob_score_\n",
    "    print('For n_estimators = '+str(w))\n",
    "    print('OOB score is '+str(oob))\n",
    "    print('************************')"
   ]
  },
  {
   "cell_type": "code",
   "execution_count": 35,
   "metadata": {},
   "outputs": [
    {
     "data": {
      "text/plain": [
       "BaggingClassifier(base_estimator=DecisionTreeClassifier(ccp_alpha=0.0,\n",
       "                                                        class_weight=None,\n",
       "                                                        criterion='gini',\n",
       "                                                        max_depth=None,\n",
       "                                                        max_features=None,\n",
       "                                                        max_leaf_nodes=None,\n",
       "                                                        min_impurity_decrease=0.0,\n",
       "                                                        min_impurity_split=None,\n",
       "                                                        min_samples_leaf=1,\n",
       "                                                        min_samples_split=2,\n",
       "                                                        min_weight_fraction_leaf=0.0,\n",
       "                                                        presort='deprecated',\n",
       "                                                        random_state=None,\n",
       "                                                        splitter='best'),\n",
       "                  bootstrap=True, bootstrap_features=False, max_features=1.0,\n",
       "                  max_samples=1.0, n_estimators=100, n_jobs=-1, oob_score=True,\n",
       "                  random_state=200, verbose=0, warm_start=False)"
      ]
     },
     "execution_count": 35,
     "metadata": {},
     "output_type": "execute_result"
    }
   ],
   "source": [
    "#Finalizing on a tree model with 100 trees\n",
    "clf1=BaggingClassifier(oob_score=True,n_jobs=-1,n_estimators=100,random_state=200,\n",
    "                      base_estimator=DecisionTreeClassifier())\n",
    "clf1.fit(X_train,y_train)"
   ]
  },
  {
   "cell_type": "code",
   "execution_count": 36,
   "metadata": {},
   "outputs": [
    {
     "data": {
      "text/plain": [
       "0.975"
      ]
     },
     "execution_count": 36,
     "metadata": {},
     "output_type": "execute_result"
    }
   ],
   "source": [
    "clf1.score(X_test,y_test)"
   ]
  },
  {
   "cell_type": "markdown",
   "metadata": {},
   "source": [
    "# Random Forest"
   ]
  },
  {
   "cell_type": "code",
   "execution_count": 47,
   "metadata": {},
   "outputs": [
    {
     "data": {
      "text/plain": [
       "RandomForestClassifier(bootstrap=True, ccp_alpha=0.0, class_weight=None,\n",
       "                       criterion='gini', max_depth=None, max_features='auto',\n",
       "                       max_leaf_nodes=None, max_samples=None,\n",
       "                       min_impurity_decrease=0.0, min_impurity_split=None,\n",
       "                       min_samples_leaf=1, min_samples_split=2,\n",
       "                       min_weight_fraction_leaf=0.0, n_estimators=80, n_jobs=-1,\n",
       "                       oob_score=True, random_state=200, verbose=0,\n",
       "                       warm_start=False)"
      ]
     },
     "execution_count": 47,
     "metadata": {},
     "output_type": "execute_result"
    }
   ],
   "source": [
    "from sklearn.ensemble import RandomForestClassifier\n",
    "clf2=RandomForestClassifier(n_estimators=80,oob_score=True,n_jobs=-1,random_state=200)\n",
    "clf2.fit(X_train,y_train)"
   ]
  },
  {
   "cell_type": "code",
   "execution_count": 48,
   "metadata": {},
   "outputs": [
    {
     "data": {
      "text/plain": [
       "0.965"
      ]
     },
     "execution_count": 48,
     "metadata": {},
     "output_type": "execute_result"
    }
   ],
   "source": [
    "clf2.oob_score_"
   ]
  },
  {
   "cell_type": "code",
   "execution_count": 49,
   "metadata": {},
   "outputs": [
    {
     "data": {
      "text/plain": [
       "0.97"
      ]
     },
     "execution_count": 49,
     "metadata": {},
     "output_type": "execute_result"
    }
   ],
   "source": [
    "clf2.score(X_test,y_test)"
   ]
  },
  {
   "cell_type": "code",
   "execution_count": 42,
   "metadata": {},
   "outputs": [
    {
     "data": {
      "text/plain": [
       "GradientBoostingClassifier(ccp_alpha=0.0, criterion='friedman_mse', init=None,\n",
       "                           learning_rate=0.1, loss='deviance', max_depth=3,\n",
       "                           max_features=None, max_leaf_nodes=None,\n",
       "                           min_impurity_decrease=0.0, min_impurity_split=None,\n",
       "                           min_samples_leaf=1, min_samples_split=2,\n",
       "                           min_weight_fraction_leaf=0.0, n_estimators=80,\n",
       "                           n_iter_no_change=None, presort='deprecated',\n",
       "                           random_state=400, subsample=1.0, tol=0.0001,\n",
       "                           validation_fraction=0.1, verbose=0,\n",
       "                           warm_start=False)"
      ]
     },
     "execution_count": 42,
     "metadata": {},
     "output_type": "execute_result"
    }
   ],
   "source": [
    "from sklearn.ensemble import GradientBoostingClassifier\n",
    "clf=GradientBoostingClassifier(n_estimators=80,random_state=400)\n",
    "clf.fit(X_train,y_train)"
   ]
  },
  {
   "cell_type": "code",
   "execution_count": 43,
   "metadata": {},
   "outputs": [
    {
     "data": {
      "text/plain": [
       "0.97"
      ]
     },
     "execution_count": 43,
     "metadata": {},
     "output_type": "execute_result"
    }
   ],
   "source": [
    "clf.score(X_test,y_test)"
   ]
  },
  {
   "cell_type": "code",
   "execution_count": 44,
   "metadata": {},
   "outputs": [
    {
     "name": "stderr",
     "output_type": "stream",
     "text": [
      "D:\\ANACONDA\\lib\\site-packages\\dask\\dataframe\\utils.py:14: FutureWarning: pandas.util.testing is deprecated. Use the functions in the public API at pandas.testing instead.\n",
      "  import pandas.util.testing as tm\n"
     ]
    },
    {
     "data": {
      "text/plain": [
       "XGBClassifier(base_score=0.5, booster=None, colsample_bylevel=1,\n",
       "              colsample_bynode=1, colsample_bytree=1, gamma=0, gpu_id=-1,\n",
       "              importance_type='gain', interaction_constraints=None,\n",
       "              learning_rate=0.300000012, max_delta_step=0, max_depth=4,\n",
       "              min_child_weight=1, missing=nan, monotone_constraints=None,\n",
       "              n_estimators=100, n_jobs=0, num_parallel_tree=1,\n",
       "              objective='binary:logistic', random_state=2, reg_alpha=0.2,\n",
       "              reg_lambda=1, scale_pos_weight=1, subsample=1, tree_method=None,\n",
       "              validate_parameters=False, verbosity=None)"
      ]
     },
     "execution_count": 44,
     "metadata": {},
     "output_type": "execute_result"
    }
   ],
   "source": [
    "import xgboost as xg\n",
    "clf=xg.XGBClassifier(objective='binary:logistic',reg_alpha=0.2,max_depth=4,random_state=2) #L1 regularization\n",
    "clf.fit(X_train,y_train) "
   ]
  },
  {
   "cell_type": "code",
   "execution_count": 45,
   "metadata": {},
   "outputs": [
    {
     "data": {
      "text/plain": [
       "0.975"
      ]
     },
     "execution_count": 45,
     "metadata": {},
     "output_type": "execute_result"
    }
   ],
   "source": [
    "clf.score(X_test,y_test)"
   ]
  },
  {
   "cell_type": "code",
   "execution_count": 46,
   "metadata": {},
   "outputs": [
    {
     "data": {
      "text/plain": [
       "0.9974329354383263"
      ]
     },
     "execution_count": 46,
     "metadata": {},
     "output_type": "execute_result"
    }
   ],
   "source": [
    "from sklearn import metrics\n",
    "metrics.roc_auc_score(y_test,clf.predict_proba(pd.get_dummies(X_test))[:,1])"
   ]
  }
 ],
 "metadata": {
  "kernelspec": {
   "display_name": "Python 3",
   "language": "python",
   "name": "python3"
  },
  "language_info": {
   "codemirror_mode": {
    "name": "ipython",
    "version": 3
   },
   "file_extension": ".py",
   "mimetype": "text/x-python",
   "name": "python",
   "nbconvert_exporter": "python",
   "pygments_lexer": "ipython3",
   "version": "3.7.4"
  }
 },
 "nbformat": 4,
 "nbformat_minor": 2
}
